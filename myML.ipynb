{
 "cells": [
  {
   "cell_type": "code",
   "execution_count": 149,
   "metadata": {},
   "outputs": [],
   "source": [
    "import pandas as pd\n",
    "import numpy as np\n",
    "import os, sys\n",
    "\n",
    "import logging\n",
    "\n",
    "logger = logging.getLogger(\"\")\n",
    "logger.setLevel(logging.INFO)"
   ]
  },
  {
   "cell_type": "code",
   "execution_count": 203,
   "metadata": {},
   "outputs": [],
   "source": [
    "## helper functions\n",
    "def train_test_split(data, split_ratio, pred_col):\n",
    "    data_size = len(data)\n",
    "    split_point = int(data_size*split_ratio)\n",
    "    \n",
    "    # split data\n",
    "    train_data = data[:split_point]\n",
    "    test_data = data[split_point:]\n",
    "    \n",
    "    # split feature and label\n",
    "    train_X = train_data[[c for c in train_data.columns if c != pred_col]]\n",
    "    train_y = train_data[[pred_col]]\n",
    "    test_X = test_data[[c for c in test_data.columns if c != pred_col]]\n",
    "    test_y = test_data[[pred_col]]\n",
    "    \n",
    "    return train_X, train_y, test_X, test_y\n",
    "\n",
    "def cat2num(data, cols):\n",
    "    output_data = data.copy()\n",
    "    for c in cols:\n",
    "        categories = output_data[c].unique()\n",
    "        cate2num_dict = dict(zip(list(categories), range(len(categories))))\n",
    "        output_data[c] = output_data[c].apply(lambda x: cate2num_dict[x])\n",
    "    return output_data\n",
    "\n",
    "def normalize(data, cols, method):\n",
    "    output_data = data.copy()\n",
    "    for c in cols:\n",
    "        if method == 'z-score':\n",
    "            output_data[c] = (output_data[c] - output_data[c].mean())/np.std(output_data[c])\n",
    "        elif method == 'min_max':\n",
    "            output_data[c] = (output_data[c] - output_data[c].min())/output_data[c].max()\n",
    "        \n",
    "    return output_data\n",
    "\n",
    "def accuracy(pred, true):\n",
    "    correct = 0\n",
    "    pred_list = list(pred)\n",
    "    true_list = list(true)\n",
    "    for i in range(len(pred)):\n",
    "        if pred_list[i] == true_list[i]:\n",
    "            correct += 1\n",
    "    acc = correct/len(pred)\n",
    "    return acc"
   ]
  },
  {
   "cell_type": "code",
   "execution_count": 155,
   "metadata": {},
   "outputs": [],
   "source": [
    "# load data\n",
    "raw_data = pd.read_csv('data/titanic/train.csv', index_col = 'PassengerId')\n",
    "test_data = pd.read_csv('data/titanic/test.csv', index_col = 'PassengerId')\n",
    "\n",
    "# clean up\n",
    "cleaned_data = raw_data.copy()\n",
    "cleaned_data = cleaned_data.drop(['Name', 'Ticket', 'Cabin'], axis=1)\n",
    "\n",
    "pred_column = 'Survived'\n",
    "feature_cols = [c for c in cleaned_data.columns if c != pred_column]\n",
    "\n",
    "cleaned_data = cat2num(cleaned_data, ['Sex', 'Embarked'])\n",
    "cleaned_data.fillna(cleaned_data.mean(), inplace=True)\n",
    "cleaned_data = normalize(cleaned_data, feature_cols, method='z-score')\n",
    "X_train, y_train, X_val, y_val = train_test_split(cleaned_data, 0.8, pred_column)"
   ]
  },
  {
   "cell_type": "markdown",
   "metadata": {},
   "source": [
    "### Linear Regression"
   ]
  },
  {
   "cell_type": "code",
   "execution_count": 191,
   "metadata": {},
   "outputs": [],
   "source": [
    "class LinearRegression:\n",
    "    \n",
    "    def __init__(self):\n",
    "        \n",
    "        print('Linear Regression Initiated')\n",
    "        \n",
    "    def fit(self, train_X, train_y):\n",
    "        X = train_X.copy()\n",
    "        X['bias'] = 1\n",
    "        X = X.values\n",
    "        y = train_y.values\n",
    "        Xt = np.transpose(X)\n",
    "        XtX = np.matmul(Xt, X)\n",
    "        Xty = np.matmul(Xt, y)\n",
    "        B = np.matmul(np.linalg.inv(XtX), Xty)\n",
    "        self.B = B\n",
    "        \n",
    "        print('Model trained')\n",
    "        return\n",
    "    \n",
    "    def predict(self, pred_X, categorical=True):\n",
    "        X = pred_X.copy()\n",
    "        X['bias'] = 1\n",
    "        X = X.values        \n",
    "        pred_y = np.matmul(X, self.B)\n",
    "        if categorical:\n",
    "            return pred_y.ravel().round()\n",
    "        else:\n",
    "            return pred_y.ravel()"
   ]
  },
  {
   "cell_type": "code",
   "execution_count": 218,
   "metadata": {},
   "outputs": [
    {
     "name": "stdout",
     "output_type": "stream",
     "text": [
      "Linear Regression Initiated\n",
      "Model trained\n"
     ]
    },
    {
     "data": {
      "text/plain": [
       "0.8212290502793296"
      ]
     },
     "execution_count": 218,
     "metadata": {},
     "output_type": "execute_result"
    }
   ],
   "source": [
    "myLR = LinearRegression()\n",
    "myLR.fit(X_train, y_train)\n",
    "y_val_pred = myLR.predict(X_val)\n",
    "accuracy(y_val_pred, y_val['Survived'])"
   ]
  },
  {
   "cell_type": "code",
   "execution_count": 201,
   "metadata": {},
   "outputs": [],
   "source": [
    "from sklearn.linear_model import  as LR"
   ]
  },
  {
   "cell_type": "code",
   "execution_count": 215,
   "metadata": {},
   "outputs": [
    {
     "data": {
      "text/plain": [
       "0.8212290502793296"
      ]
     },
     "execution_count": 215,
     "metadata": {},
     "output_type": "execute_result"
    }
   ],
   "source": [
    "skLR = LR()\n",
    "skLR.fit(X_train, y_train)\n",
    "y_val_pred = skLR.predict(X_val)\n",
    "accuracy(y_val_pred.ravel().round(), y_val['Survived'])"
   ]
  },
  {
   "cell_type": "markdown",
   "metadata": {},
   "source": [
    "### Logistic Regression"
   ]
  },
  {
   "cell_type": "code",
   "execution_count": null,
   "metadata": {},
   "outputs": [],
   "source": []
  }
 ],
 "metadata": {
  "kernelspec": {
   "display_name": "Python 3",
   "language": "python",
   "name": "python3"
  },
  "language_info": {
   "codemirror_mode": {
    "name": "ipython",
    "version": 3
   },
   "file_extension": ".py",
   "mimetype": "text/x-python",
   "name": "python",
   "nbconvert_exporter": "python",
   "pygments_lexer": "ipython3",
   "version": "3.6.5"
  }
 },
 "nbformat": 4,
 "nbformat_minor": 2
}
